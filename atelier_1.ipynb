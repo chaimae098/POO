{
 "cells": [
  {
   "cell_type": "code",
   "execution_count": 1,
   "id": "219f0d29",
   "metadata": {},
   "outputs": [
    {
     "name": "stdout",
     "output_type": "stream",
     "text": [
      "Bonjour Python\n"
     ]
    }
   ],
   "source": [
    "print(\"Bonjour Python\")"
   ]
  },
  {
   "cell_type": "code",
   "execution_count": null,
   "id": "8b3dfbf5",
   "metadata": {},
   "outputs": [
    {
     "name": "stdout",
     "output_type": "stream",
     "text": [
      "Bonjour, Chaimae\n"
     ]
    }
   ],
   "source": [
    "nom = input(\"veuillez saisir votre nom:\")\n",
    "print(\"Bonjour,\" ,nom)"
   ]
  },
  {
   "cell_type": "code",
   "execution_count": 1,
   "id": "b192d4c1",
   "metadata": {},
   "outputs": [
    {
     "name": "stdout",
     "output_type": "stream",
     "text": [
      "la somme est = 47 la multiplication est = 90\n"
     ]
    }
   ],
   "source": [
    "a = int(input(\"veuillez saisir a =\"))\n",
    "b = int(input(\"veuillez saisir b =\"))\n",
    "print(\"la somme est =\", a + b , \"la multiplication est =\",a*b)"
   ]
  },
  {
   "cell_type": "code",
   "execution_count": 2,
   "id": "ba615c1c",
   "metadata": {},
   "outputs": [
    {
     "name": "stdout",
     "output_type": "stream",
     "text": [
      "la valeur de a = 45 la valeur de b = 2\n"
     ]
    }
   ],
   "source": [
    "a , b = b , a \n",
    "print(\"la valeur de a =\", a , \"la valeur de b =\", b)"
   ]
  },
  {
   "cell_type": "code",
   "execution_count": 1,
   "id": "6b1dfc35",
   "metadata": {},
   "outputs": [
    {
     "name": "stdout",
     "output_type": "stream",
     "text": [
      "le max est  4\n"
     ]
    }
   ],
   "source": [
    "a = int(input(\"veuillez saisir a =\"))\n",
    "b = int(input(\"veuillez saisir b =\"))\n",
    "c= int(input(\"veuillez saisir c =\"))\n",
    "print(\"le max est \", max(a,b,c))"
   ]
  },
  {
   "cell_type": "code",
   "execution_count": 4,
   "id": "a7d6e446",
   "metadata": {},
   "outputs": [
    {
     "name": "stdout",
     "output_type": "stream",
     "text": [
      "la distance = 36.800000000000004 milles\n"
     ]
    }
   ],
   "source": [
    "distance = int(input(\"veuillez saisir la distance\"))\n",
    "unite = input(\"veuillez saisir l'unité :\")\n",
    "if unite.lower() == \"km\":\n",
    "    distance *= 1.6\n",
    "    print(\"la distance =\", distance , \"milles\")    \n",
    "elif unite.lower()  == \"mille\":\n",
    "    distance /= 1.6\n",
    "    print(\"la distance =\", distance , \"km\")   \n",
    "else :\n",
    "    print(\"unité invalide\")    \n",
    "           "
   ]
  },
  {
   "cell_type": "code",
   "execution_count": 10,
   "id": "678dc8fc",
   "metadata": {},
   "outputs": [
    {
     "name": "stdout",
     "output_type": "stream",
     "text": [
      "* * * * * * * \n",
      "\n",
      "* * * * * * * \n",
      "\n",
      "* * * * * * * \n",
      "\n",
      "* * * * * * * \n",
      "\n"
     ]
    }
   ],
   "source": [
    "for i in range(4):\n",
    "    for j in range(7):\n",
    "        print(\"*\", end=\" \")\n",
    "    print(\"\\n\")        "
   ]
  },
  {
   "cell_type": "code",
   "execution_count": null,
   "id": "7c2f93aa",
   "metadata": {},
   "outputs": [
    {
     "name": "stdout",
     "output_type": "stream",
     "text": [
      "18 17 16 \n",
      "\n",
      "15 14 13 \n",
      "\n",
      "12 11 10 \n",
      "\n",
      "9 8 7 \n",
      "\n",
      "6 5 4 \n",
      "\n",
      "3 2 1 \n",
      "\n"
     ]
    }
   ],
   "source": [
    "for i in range(18,0,-1):\n",
    "    print(i , end =\" \")\n",
    "    if ((i-1 )%3 == 0):\n",
    "        print(\"\\n\")\n",
    "        "
   ]
  },
  {
   "cell_type": "code",
   "execution_count": 14,
   "id": "9483185f",
   "metadata": {},
   "outputs": [
    {
     "name": "stdout",
     "output_type": "stream",
     "text": [
      "\n",
      "\n",
      "1 \n",
      "\n",
      "2 2 \n",
      "\n",
      "3 3 3 \n",
      "\n",
      "4 4 4 4 \n",
      "\n",
      "5 5 5 5 5 \n",
      "\n"
     ]
    }
   ],
   "source": [
    "for i in range(6):\n",
    "    for j in range(i):\n",
    "        print(i , end=\" \")\n",
    "    print(\"\\n\")    "
   ]
  },
  {
   "cell_type": "code",
   "execution_count": null,
   "id": "c2c3008d",
   "metadata": {},
   "outputs": [
    {
     "name": "stdout",
     "output_type": "stream",
     "text": [
      "1\n",
      "2 3\n",
      "4 5 6\n",
      "7 8 9 10\n"
     ]
    }
   ],
   "source": [
    "liste=[]\n",
    "rows=1\n",
    "for i in range(1, 11):\n",
    "    liste.append(i)\n",
    "    if len(liste) == rows :\n",
    "        print(*liste)\n",
    "        liste=[]\n",
    "        rows+=1"
   ]
  },
  {
   "cell_type": "code",
   "execution_count": null,
   "id": "7006f001",
   "metadata": {},
   "outputs": [
    {
     "name": "stdout",
     "output_type": "stream",
     "text": [
      " \n",
      "1  \n",
      "2 3  \n",
      "4 5 6  \n",
      "7 8 9 10  \n"
     ]
    }
   ],
   "source": [
    "#q6 solution 2\n",
    "k=1\n",
    "for i in range(1,6):\n",
    "    for j in range(i-1):\n",
    "        print(k, end=\" \")\n",
    "        k+=1\n",
    "    print(\" \")    \n"
   ]
  },
  {
   "cell_type": "code",
   "execution_count": 25,
   "id": "c3515be6",
   "metadata": {},
   "outputs": [
    {
     "name": "stdout",
     "output_type": "stream",
     "text": [
      "1\n",
      "1 2\n",
      "1 2 3\n",
      "1 2 3 4\n"
     ]
    }
   ],
   "source": [
    "liste=[]\n",
    "for i in range(1, 5):\n",
    "    liste.append(i)\n",
    "    print(*liste)"
   ]
  },
  {
   "cell_type": "code",
   "execution_count": 27,
   "id": "47f7a316",
   "metadata": {},
   "outputs": [
    {
     "name": "stdout",
     "output_type": "stream",
     "text": [
      "1 \n",
      "\n",
      "2 2 \n",
      "\n",
      "3 3 3 \n",
      "\n",
      "4 4 4 4 \n",
      "\n"
     ]
    }
   ],
   "source": [
    "for i in range(1, 5):\n",
    "    for j in range(i):\n",
    "        print(i , end=\" \")\n",
    "    print(\"\\n\")  "
   ]
  },
  {
   "cell_type": "code",
   "execution_count": 31,
   "id": "19f76cfe",
   "metadata": {},
   "outputs": [
    {
     "name": "stdout",
     "output_type": "stream",
     "text": [
      "1 \n",
      "\n",
      "2 1 \n",
      "\n",
      "3 2 1 \n",
      "\n",
      "4 3 2 1 \n",
      "\n",
      "5 4 3 2 1 \n",
      "\n"
     ]
    }
   ],
   "source": [
    "for i in range(1, 6):\n",
    "    for j in range(i,0,-1):\n",
    "        print(j , end=\" \")\n",
    "    print(\"\\n\")    \n"
   ]
  },
  {
   "cell_type": "code",
   "execution_count": 37,
   "id": "4b73fde3",
   "metadata": {},
   "outputs": [
    {
     "name": "stdout",
     "output_type": "stream",
     "text": [
      "* \n",
      "\n",
      "* * \n",
      "\n",
      "* * * \n",
      "\n",
      "* * * * \n",
      "\n",
      "* * * * * \n",
      "\n",
      "* * * * \n",
      "\n",
      "* * * \n",
      "\n",
      "* * \n",
      "\n",
      "* \n",
      "\n"
     ]
    }
   ],
   "source": [
    "for i in range(1, 6):\n",
    "    for j in range(i):\n",
    "        print(\"*\", end=\" \")\n",
    "    print(\"\\n\")\n",
    "for i in range(4,0,-1):   \n",
    "    for j in range(i):\n",
    "        print(\"*\", end=\" \")\n",
    "    print(\"\\n\")    \n",
    "            \n"
   ]
  },
  {
   "cell_type": "code",
   "execution_count": 56,
   "id": "78bc3100",
   "metadata": {},
   "outputs": [
    {
     "name": "stdout",
     "output_type": "stream",
     "text": [
      "* \n",
      "\n",
      "* * \n",
      "\n",
      "* * * \n",
      "\n",
      "* * * * \n",
      "\n",
      "* * * * * \n",
      "\n",
      "* * * * \n",
      "\n",
      "* * * \n",
      "\n",
      "* * \n",
      "\n",
      "* \n",
      "\n",
      "\n",
      "\n"
     ]
    }
   ],
   "source": [
    "for i in range(1, 11):\n",
    "   if i <= 5 :\n",
    "     for j in range(i):\n",
    "         print(\"*\", end=\" \")\n",
    "     print(\"\\n\") \n",
    "   else :\n",
    "      for j in range(10-i):\n",
    "         print(\"*\", end=\" \") \n",
    "      print(\"\\n\")         "
   ]
  },
  {
   "cell_type": "code",
   "execution_count": 49,
   "id": "d1e46f31",
   "metadata": {},
   "outputs": [
    {
     "name": "stdout",
     "output_type": "stream",
     "text": [
      " * * * * * \n",
      "\n",
      "  * * * * \n",
      "\n",
      "   * * * \n",
      "\n",
      "    * * \n",
      "\n",
      "     * \n",
      "\n",
      "    * * \n",
      "\n",
      "   * * * \n",
      "\n",
      "  * * * * \n",
      "\n",
      " * * * * * \n",
      "\n"
     ]
    }
   ],
   "source": [
    "for i in range(5,0,-1):\n",
    "    print(\" \"*(5-i),end=\" \")\n",
    "    for k in range(i):\n",
    "        print(\"*\", end=\" \")\n",
    "    print(\"\\n\")    \n",
    "for i in range(2,6):\n",
    "    print(\" \"*(5-i),end=\" \")\n",
    "    for k in range(i):\n",
    "        print(\"*\", end=\" \")\n",
    "    print(\"\\n\")    \n",
    "         \n"
   ]
  },
  {
   "cell_type": "code",
   "execution_count": 55,
   "id": "9147718b",
   "metadata": {},
   "outputs": [
    {
     "name": "stdout",
     "output_type": "stream",
     "text": [
      "5 4 3 2 1 \n",
      "\n",
      "4 3 2 1 \n",
      "\n",
      "3 2 1 \n",
      "\n",
      "2 1 \n",
      "\n",
      "1 \n",
      "\n"
     ]
    }
   ],
   "source": [
    "for i in range(5,0,-1):\n",
    "    for j in range(i, 0 , -1):\n",
    "        print(j, end=\" \")\n",
    "    print(\"\\n\")    "
   ]
  }
 ],
 "metadata": {
  "kernelspec": {
   "display_name": "Python 3",
   "language": "python",
   "name": "python3"
  },
  "language_info": {
   "codemirror_mode": {
    "name": "ipython",
    "version": 3
   },
   "file_extension": ".py",
   "mimetype": "text/x-python",
   "name": "python",
   "nbconvert_exporter": "python",
   "pygments_lexer": "ipython3",
   "version": "3.13.5"
  }
 },
 "nbformat": 4,
 "nbformat_minor": 5
}
