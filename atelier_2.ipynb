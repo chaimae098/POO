{
 "cells": [
  {
   "cell_type": "code",
   "execution_count": null,
   "id": "3117de2d",
   "metadata": {},
   "outputs": [
    {
     "name": "stdout",
     "output_type": "stream",
     "text": [
      "1 2 3 4\n"
     ]
    }
   ],
   "source": [
    "# qctivite 15\n",
    "L2= []\n",
    "for i in range(4):\n",
    "    a= int(input(\"veuillez saisir 'l'element\"))\n",
    "    L2.append(a)\n",
    "\n",
    "print(*L2)\n"
   ]
  },
  {
   "cell_type": "code",
   "execution_count": null,
   "id": "11fc4853",
   "metadata": {},
   "outputs": [
    {
     "name": "stdout",
     "output_type": "stream",
     "text": [
      "1\n",
      "2\n",
      "3\n",
      "4\n",
      "5\n",
      "15\n",
      "60\n",
      "5 ; 1\n"
     ]
    }
   ],
   "source": [
    "# activite 16\n",
    "\n",
    "L3= []\n",
    "for i in range(5):\n",
    "    a= int(input(\"veuillez saisir 'l'element\"))\n",
    "    L3.append(a)\n",
    "s=0\n",
    "for num in L3:\n",
    "    print(num)\n",
    "    s+=num\n",
    "\n",
    "print(s)\n",
    "p=1\n",
    "for i in range(2,5):\n",
    "    p *=L3[i]\n",
    "\n",
    "print(p)\n",
    "print(max(L3),\";\",min(L3))\n",
    "compt = 0\n"
   ]
  },
  {
   "cell_type": "code",
   "execution_count": null,
   "id": "0ffe8fdb",
   "metadata": {},
   "outputs": [
    {
     "name": "stdout",
     "output_type": "stream",
     "text": [
      "192.168.0.2\n",
      "5\n",
      "{'m1': '192.168.0.1', 'm2': '192.168.0.2', 'm3': '192.168.0.3', 'm4': '192.168.0.4', 'm5': '192.168.0.5', 'm6': '192.168.0.6'}\n",
      "{'m1': '192.168.0.1', 'm2': '192.168.0.2', 'm3': '192.168.0.3', 'm5': '192.168.0.5', 'm6': '192.168.0.6'}\n",
      "l'element m5 existe \n",
      "L'adresse IP de machine m3 est : 192.168.0.3\n"
     ]
    }
   ],
   "source": [
    "# activite 18\n",
    "machines = {\n",
    "    \"m1\":\"192.168.0.1\",\n",
    "    \"m2\":\"192.168.0.2\" , \n",
    "    \"m3\":\"192.168.0.3\",\n",
    "    \"m4\":\"192.168.0.4\",\n",
    "    \"m5\":\"192.168.0.5\"\n",
    "}\n",
    "print(machines[\"m2\"])\n",
    "print(len(machines))\n",
    "machines[\"m6\"]=\"192.168.0.6\"\n",
    "print(machines)\n",
    "del machines[\"m4\"]\n",
    "print(machines)\n",
    "\n",
    "if \"m5\" in machines:\n",
    "    print(\"l'element m5 existe \")\n",
    "\n",
    "a = input(\"Entrer le nom d'une machine:\")    \n",
    "if a in machines:\n",
    "    print(\"L'adresse IP de machine\", a , \"est :\", machines[a])\n"
   ]
  },
  {
   "cell_type": "code",
   "execution_count": null,
   "id": "e7237f73",
   "metadata": {},
   "outputs": [],
   "source": [
    "#activite 19\n",
    "def F1(num):\n",
    "    for i in range(num):\n",
    "        print(\"Bonjour\")\n",
    "\n",
    "def F2(num):\n",
    "    if num%10 == 0:\n",
    "        return f\"{num} est divisible par 10\"    \n",
    "\n",
    "def F4(num):\n",
    "    p = 1\n",
    "    for i  in range(1,num+1):   \n",
    "        p*= i \n",
    "    return p\n",
    "\n",
    "def F3(string):\n",
    "    compt = 0\n",
    "    for i in range(len(string)) :\n",
    "        if string[i].islower() and (string[i] in ['a', 'o', 'u', 'i', 'e', 'y']): \n",
    "            compt+= 1\n",
    "        return compt          \n",
    "\n",
    "def F7(num):\n",
    "    if num == 0 :\n",
    "        return 0\n",
    "    elif num< 0:\n",
    "        return f\"le nombre doit etre positif\"    \n",
    "    elif num == 1 :\n",
    "        return 1\n",
    "    else :\n",
    "        return F7(num-1)+F7(num-2)       "
   ]
  },
  {
   "cell_type": "code",
   "execution_count": null,
   "id": "e2532c22",
   "metadata": {},
   "outputs": [],
   "source": [
    "#activite 20\n",
    "adresses_ip=[\"192.168.0.1\",\"10.0.0.1\",\"172.16.0.1\",\"200.100.50.1\",\"169.254.0.1\"]\n",
    "print(adresses_ip[0])\n",
    "print(adresses_ip[4])\n",
    "print(adresses_ip[2])\n",
    "adresses_ip.append(\"173.31.0.1\")\n",
    "adresses_ip.remove(\"200.100.50.1\")\n",
    "print(len(adresses_ip))\n",
    "if \"192.168.0.1\" in adresses_ip :\n",
    "    print(\"192.168.0.1 est présente dans la liste\")\n",
    "\n",
    "    "
   ]
  },
  {
   "cell_type": "code",
   "execution_count": null,
   "id": "630dc166",
   "metadata": {},
   "outputs": [
    {
     "name": "stdout",
     "output_type": "stream",
     "text": [
      "a:x= 0 y= 0\n",
      "a:x= 1 y= 1\n"
     ]
    }
   ],
   "source": [
    "class Point :\n",
    "    def __init__(self):# methode de construction blueprint\n",
    "        self.x=0\n",
    "        self.y=0\n",
    "a = Point()\n",
    "print(\"a:x=\",a.x,\"y=\",a.y)\n",
    "\n",
    "a.x=1\n",
    "a.y=1\n",
    "print(\"a:x=\",a.x,\"y=\",a.y)"
   ]
  }
 ],
 "metadata": {
  "kernelspec": {
   "display_name": "Python 3",
   "language": "python",
   "name": "python3"
  },
  "language_info": {
   "codemirror_mode": {
    "name": "ipython",
    "version": 3
   },
   "file_extension": ".py",
   "mimetype": "text/x-python",
   "name": "python",
   "nbconvert_exporter": "python",
   "pygments_lexer": "ipython3",
   "version": "3.13.5"
  }
 },
 "nbformat": 4,
 "nbformat_minor": 5
}
